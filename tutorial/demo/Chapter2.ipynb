{
 "cells": [
  {
   "cell_type": "markdown",
   "id": "0338b479",
   "metadata": {
    "tags": []
   },
   "source": [
    "## Data selection and resource access\n",
    "\n",
    "In this notebook you will:\n",
    "- filter and collect resources based on properties in the metadata\n",
    "- carry out simple analysis tasks on custom data collections such as counting files or words"
   ]
  },
  {
   "cell_type": "code",
   "execution_count": 67,
   "id": "e938dea0",
   "metadata": {},
   "outputs": [
    {
     "name": "stdout",
     "output_type": "stream",
     "text": [
      "Requirement already satisfied: lxml in /opt/conda/lib/python3.9/site-packages (4.8.0)\n"
     ]
    }
   ],
   "source": [
    "# Make sure lxml is installed\n",
    "!pip install lxml\n",
    "\n",
    "# Define some handy defaults\n",
    "nsmap = {\"cmd\": \"http://www.clarin.eu/cmd/1\",\n",
    "         \"cmdp_text\": \"http://www.clarin.eu/cmd/1/profiles/clarin.eu:cr1:p_1633000337997\"}"
   ]
  },
  {
   "cell_type": "markdown",
   "id": "7d266b41-cd0c-42f3-b423-a6f2b5cca2aa",
   "metadata": {},
   "source": [
    "# Retrieving metadata files"
   ]
  },
  {
   "cell_type": "code",
   "execution_count": 68,
   "id": "12487963-05e1-4e8c-8db5-b9c115485116",
   "metadata": {},
   "outputs": [],
   "source": [
    "import requests\n",
    "from io import BytesIO\n",
    "from zipfile import ZipFile\n",
    "\n",
    "'''\n",
    "    This function gets and unpacks a metadata archive\n",
    "'''\n",
    "def unpack_metadata(set_id, target_dir):\n",
    "    # construct the address of the .zip file with the metadata for one set\n",
    "    md_zip_url = f'https://europeana-oai.clarin.eu/metadata/fulltext-aggregation/{set_id}.zip'\n",
    "    \n",
    "    # retrieve the .zip file\n",
    "    print(f'Retrieving {md_zip_url}')\n",
    "    resp = requests.get(md_zip_url)\n",
    "    zipfile = ZipFile(BytesIO(resp.content))\n",
    "    \n",
    "    print(f'Extracting content in {target_dir}')\n",
    "    zipfile.extractall(path=target_dir)\n",
    "    print('Done')"
   ]
  },
  {
   "cell_type": "code",
   "execution_count": 69,
   "id": "b4d40283-2211-4b92-beaa-a2f55764ded8",
   "metadata": {},
   "outputs": [
    {
     "name": "stdout",
     "output_type": "stream",
     "text": [
      "Retrieving https://europeana-oai.clarin.eu/metadata/fulltext-aggregation/9200357.zip\n",
      "Extracting content in /home/jovyan/work/temp/metadata/9200357\n",
      "Done\n"
     ]
    }
   ],
   "source": [
    "from os.path import expanduser\n",
    "\n",
    "'''\n",
    "    We now call the function for the set of Polish newspapers and extract them in a temporary directory so that we can use it.\n",
    "'''\n",
    "\n",
    "set_id = '9200357' # Poland\n",
    "metadata_dir = f'{expanduser(\"~\")}/work/temp/metadata/{set_id}'\n",
    "unpack_metadata(set_id, metadata_dir)"
   ]
  },
  {
   "cell_type": "markdown",
   "id": "6bc2fa0b-94ae-4935-8b0b-ec12ab439e26",
   "metadata": {},
   "source": [
    "# Data segmentation using metadata properties\n",
    "Now we have the metadata available, we want to use the properties in the metadata to create useful data segments. For The metadata tells us, for instance, the year of publication of each newspaper. \n",
    "\n",
    "Thus, we can narrow down our selection of text files and at the same time, using the resource identifiers that are also found in the metadata, create a 'map' that allows us to look up specific files based on a property we are interested in, in this case year of publication."
   ]
  },
  {
   "cell_type": "code",
   "execution_count": 78,
   "id": "7e183b84-e5c0-4d4e-a790-ba8725eaa90e",
   "metadata": {},
   "outputs": [],
   "source": [
    "from lxml import etree\n",
    "\n",
    "'''\n",
    "    This function returns the publication year and resource identifiers for a metadata record.\n",
    "    If the record is not a text resource record, it returns nothing\n",
    "'''\n",
    "def get_year_and_ids(record_file):\n",
    "    xml_tree = etree.parse(record_file)\n",
    "    text_resource_root_node = xml_tree.xpath('//cmd:Components/cmdp_text:TextResource', namespaces=nsmap)\n",
    "\n",
    "    if len(text_resource_root_node) < 1:\n",
    "        # Metadata in file is not for a text resource...\n",
    "        return None\n",
    "    else:\n",
    "        # Get the temporal coverage information\n",
    "        year_text_node = xml_tree.xpath(\n",
    "            '//cmdp_text:TextResource/cmdp_text:TemporalCoverage/cmdp_text:Start/cmdp_text:year/text()', namespaces=nsmap)\n",
    "        if len(year_text_node) < 1:\n",
    "            # No publication year found... this is unexpected!\n",
    "            print(f'Warning: year information not found in {record_file}')\n",
    "            return None\n",
    "        else:\n",
    "            year = year_text_node[0]\n",
    "            # get the record identifiers\n",
    "            record_ids_text_nodes = xml_tree.xpath(\n",
    "                '//cmdp_text:SubresourceDescription/cmdp_text:IdentificationInfo/cmdp_text:identifier/text()', namespaces=nsmap)\n",
    "            \n",
    "            # we only want the numeric identifiers...\n",
    "            record_numeric_ids = [id for id \n",
    "                                  in record_ids_text_nodes \n",
    "                                  if id.isnumeric()]\n",
    "            \n",
    "            # return the information found in the record as a tuple\n",
    "            return(year, record_numeric_ids)    "
   ]
  },
  {
   "cell_type": "code",
   "execution_count": 79,
   "id": "332700e9-2aad-4367-bd21-69f380d0f41c",
   "metadata": {},
   "outputs": [
    {
     "data": {
      "text/plain": [
       "('1939', ['3000095232409', '3000095232408', '3000095232410'])"
      ]
     },
     "execution_count": 79,
     "metadata": {},
     "output_type": "execute_result"
    }
   ],
   "source": [
    "'''\n",
    "    Trying it out on a single file that we know to be there...\n",
    "'''\n",
    "sample_file = f'{metadata_dir}/Ilustrowany_Dziennik_Ludowy_1939.xml'\n",
    "get_year_and_ids(sample_file)"
   ]
  },
  {
   "cell_type": "code",
   "execution_count": 91,
   "id": "1af4344a-1249-44cd-a5ad-23373d638842",
   "metadata": {},
   "outputs": [
    {
     "data": {
      "text/plain": [
       "[('1900', 50),\n",
       " ('1901', 52),\n",
       " ('1902', 53),\n",
       " ('1903', 51),\n",
       " ('1904', 52),\n",
       " ('1906', 52),\n",
       " ('1907', 51),\n",
       " ('1908', 51),\n",
       " ('1910', 39),\n",
       " ('1911', 53),\n",
       " ('1912', 53),\n",
       " ('1913', 51),\n",
       " ('1914', 1410),\n",
       " ('1915', 1939),\n",
       " ('1916', 1764),\n",
       " ('1917', 1616),\n",
       " ('1918', 2092),\n",
       " ('1919', 1713)]"
      ]
     },
     "execution_count": 91,
     "metadata": {},
     "output_type": "execute_result"
    }
   ],
   "source": [
    "import os\n",
    "\n",
    "'''\n",
    "    Now we apply the function to all metadata files and construct an 'index'\n",
    "    The index will be a dictionary that has the year as 'key' and a list of \n",
    "'''\n",
    "index = {}\n",
    "years_of_interest = range(1900, 1920)\n",
    "for filename in os.listdir(metadata_dir):\n",
    "    if filename.endswith('.xml'):\n",
    "        info = get_year_and_ids(f'{metadata_dir}/{filename}')\n",
    "        # did we in fact get metadata for a text resource?\n",
    "        if info:\n",
    "            # break down the info\n",
    "            (year, ids) = info\n",
    "            if int(year) in years_of_interest: # int(year) gives us a numeric value needed to check against range\n",
    "                # add to our index\n",
    "                if not year in index: # does the index have an entry for the year?\n",
    "                    # if not, make the entry\n",
    "                    index[year] = []\n",
    "                # append the identifiers to the entry\n",
    "                index[year] += ids\n",
    "\n",
    "# summarize our index: (year, id count)\n",
    "[(year, len(index[year]))for year in sorted(index)]"
   ]
  }
 ],
 "metadata": {
  "kernelspec": {
   "display_name": "Python 3 (ipykernel)",
   "language": "python",
   "name": "python3"
  },
  "language_info": {
   "codemirror_mode": {
    "name": "ipython",
    "version": 3
   },
   "file_extension": ".py",
   "mimetype": "text/x-python",
   "name": "python",
   "nbconvert_exporter": "python",
   "pygments_lexer": "ipython3",
   "version": "3.9.7"
  }
 },
 "nbformat": 4,
 "nbformat_minor": 5
}
