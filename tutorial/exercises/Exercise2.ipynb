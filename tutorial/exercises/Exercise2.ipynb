{
 "cells": [
  {
   "cell_type": "code",
   "execution_count": null,
   "id": "9d3525cc-72f2-47cc-9aeb-c24fea3741ca",
   "metadata": {},
   "outputs": [],
   "source": [
    "# TODO: factor out this preamble\n",
    "nsmap = {\"cmd\": \"http://www.clarin.eu/cmd/1\",\n",
    "         \"cmdp_text\": \"http://www.clarin.eu/cmd/1/profiles/clarin.eu:cr1:p_1633000337997\"}"
   ]
  },
  {
   "cell_type": "markdown",
   "id": "9d95b42d-f8ed-41af-a21b-53fd5aa96256",
   "metadata": {
    "tags": []
   },
   "source": [
    "# Exercise 2: working with metadata and other files\n",
    "\n",
    "In this exercise you will learn how to extract information from metadata, and how to work with files in general. If you think you already have these skills, we recommend to run all cells, review the contents and output, and using this knowledge move on to [Exercise 3](./Exercise3.ipynb).\n",
    "\n",
    "----\n",
    "Before we can run the cells in this exercise, we need to install and 'import' some packages. Run the following cell. Don't worry about understanding everything that is happening here for the moment, but verify that it completes without errors in the output.\n",
    "\n",
    "Notice that this is a cell that might take a bit more time to run. While `[*]` is shown next to a cell, this means that it is being processed or waiting to be processed and has not yet completed."
   ]
  },
  {
   "cell_type": "code",
   "execution_count": null,
   "id": "5c51ea62-15a0-4df9-b095-029742393adf",
   "metadata": {},
   "outputs": [],
   "source": [
    "!pip install lxml\n",
    "\n",
    "from lxml import etree\n",
    "import requests"
   ]
  },
  {
   "cell_type": "markdown",
   "id": "9ea38015-ff4d-4743-b440-a1b402ead151",
   "metadata": {},
   "source": [
    "## Exercise 2.1\n",
    "In this exercise we will take a real metadata file and read some content out of it.\n",
    "\n",
    "We will start by downloading a metadata record that we have [found in a catalogue](https://vlo.clarin.eu/record/https_58__47__47_europeana-oai.clarin.eu_47_metadata_47_fulltext-aggregation_47_9200357_47_Dziennik__l_ski_1915.xml).\n",
    "\n",
    "**Read the following cell and try to understand what it does.** \n",
    "\n",
    "Note that the lines starting with a `#` character are so called comments, which are used to document code. In this case they are used to explain what is happening on each line."
   ]
  },
  {
   "cell_type": "code",
   "execution_count": null,
   "id": "1a6edfaf-1d66-46b4-b3fd-c26b3bf0e853",
   "metadata": {},
   "outputs": [],
   "source": [
    "# The next line gets a metadata record from a URL, and stores the result in memory. The results gets a name `remote_metadata` for use and reference later on\n",
    "remote_metadata = requests.get('https://europeana-oai.clarin.eu/metadata/fulltext-aggregation/9200357/Dziennik__l_ski_1915.xml')\n",
    "\n",
    "# After the next line, the field `text` inside the retrieved data can be referenced using the name `metadata_content`\n",
    "metadata_content = remote_metadata.content\n",
    "\n",
    "# The final line yields a number, which represents the length of the metadata record. Because it is the last line of the cell it is considered\n",
    "# the \"result\" of the cell and therefore is also shown after the cell has finished running\n",
    "len(metadata_content)"
   ]
  },
  {
   "cell_type": "markdown",
   "id": "7e0bb33f-f98b-4324-a4a2-8fe8d64013f0",
   "metadata": {},
   "source": [
    "We now have loaded the metadata locally as a file in memory. Next step is to 'parse' it - that is, read and process the structure of the document so that we can easily query it for values that we are interested in."
   ]
  },
  {
   "cell_type": "code",
   "execution_count": null,
   "id": "c5202271-aa10-45c0-aab9-2692500e3784",
   "metadata": {},
   "outputs": [],
   "source": [
    "# First we have to do the parsing. This results in a so called 'XML tree', a hierarchical representation of the metadata document.\n",
    "metadata_tree = etree.fromstring(metadata_content)\n",
    "\n",
    "# We can now use the metadata tree variable to see if we can look up the title of the record\n",
    "metadata_tree.xpath('//cmdp_text:TitleInfo/cmdp_text:title/text()', namespaces=nsmap)"
   ]
  },
  {
   "cell_type": "markdown",
   "id": "9b860b8d-d892-46c4-9d29-96a6b22bd2c6",
   "metadata": {},
   "source": [
    "As you may have noticed, we use the `xpath` function which is available when we have a parsed XML tree (`metadata_tree` in the cell above). The name of the function refers to **XPath**, which is a special language that is very commonly used to query XML documents. Its basic functions are easy to use, as can be seen above, but it also has many advanced features. To learn more about XPath, have a look at the [XPath page on Wikipedia](https://en.wikipedia.org/wiki/XPath) or follow [this tutorial](https://www.w3schools.com/xml/xpath_intro.asp).\n",
    "\n",
    "----\n",
    "The following snippet shows a part of the XML document that we have loaded (we encourage you to also have a look at the [full file](https://europeana-oai.clarin.eu/metadata/fulltext-aggregation/9200357/Dziennik__l_ski_1915.xml)):\n",
    "```xml\n",
    "<cmd:CMD>\n",
    "    ...\n",
    "    <cmd:Components>\n",
    "        <cmdp_text:TextResource>\n",
    "            <cmdp_text:TitleInfo>\n",
    "                <cmdp_text:title>Dziennik Śląski - 1915</cmdp_text:title>\n",
    "            </cmdp_text:TitleInfo>\n",
    "            <cmdp_text:Description>\n",
    "                <cmdp_text:description>\n",
    "                    Full text content aggregated from Europeana. Title: \"Dziennik Śląski\". Year: 1915.\n",
    "                </cmdp_text:description>\n",
    "            </cmdp_text:Description>\n",
    "                ...\n",
    "        </cmdp_text:TextResource>\n",
    "    </cmd:Components>\n",
    "</cmd:CMD>\n",
    "```\n",
    "\n",
    "**In the next cell, write a line that returns the _description_ contained in the metadata.** Run the cell and verify that the value matches the description found in the metadata snippet listed above.\n",
    "\n",
    "Note: you can use the `metadata_tree` variable, since it has been defined in the previous cell. Variables remain available to use in following cells once they are defined."
   ]
  },
  {
   "cell_type": "code",
   "execution_count": null,
   "id": "6cea6545-4dee-4f12-aedc-546a883768fc",
   "metadata": {},
   "outputs": [],
   "source": [
    "# Write the line below that looks up and returns the value of the description as found in the metadata\n"
   ]
  },
  {
   "cell_type": "markdown",
   "id": "c6166e12-0c64-4d20-a94e-2452eaca9cf6",
   "metadata": {},
   "source": [
    "## Exercise 2.2\n"
   ]
  },
  {
   "cell_type": "markdown",
   "id": "68e3a1b6-247f-4268-b2f2-9e7fbe9d1235",
   "metadata": {},
   "source": [
    "----\n",
    "Next: [Exercise 3](./Exercise3.ipynb)"
   ]
  }
 ],
 "metadata": {
  "kernelspec": {
   "display_name": "Python 3 (ipykernel)",
   "language": "python",
   "name": "python3"
  },
  "language_info": {
   "codemirror_mode": {
    "name": "ipython",
    "version": 3
   },
   "file_extension": ".py",
   "mimetype": "text/x-python",
   "name": "python",
   "nbconvert_exporter": "python",
   "pygments_lexer": "ipython3",
   "version": "3.9.7"
  }
 },
 "nbformat": 4,
 "nbformat_minor": 5
}
