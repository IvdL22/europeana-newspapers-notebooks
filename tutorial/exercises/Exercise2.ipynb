{
 "cells": [
  {
   "cell_type": "markdown",
   "id": "9d95b42d-f8ed-41af-a21b-53fd5aa96256",
   "metadata": {
    "tags": []
   },
   "source": [
    "# Exercise 2: working with metadata and other files\n",
    "\n",
    "In this exercise you will learn how to extract information from metadata, and how to work with files in general. If you think you already have these skills, we recommend to run all cells, review the contents and output, and using this knowledge move on to [Exercise 3](./Exercise3.ipynb).\n",
    "\n",
    "----\n",
    "Before we can run the cells in this exercise, we need to install and 'import' some packages. Run the following cell. Don't worry about understanding everything that is happening here for the moment, but verify that it completes without errors in the output.\n",
    "\n",
    "Notice that this is a cell that might take a bit more time to run. While `[*]` is shown next to a cell, this means that it is being processed or waiting to be processed and has not yet completed."
   ]
  },
  {
   "cell_type": "code",
   "execution_count": 1,
   "id": "5c51ea62-15a0-4df9-b095-029742393adf",
   "metadata": {},
   "outputs": [
    {
     "name": "stdout",
     "output_type": "stream",
     "text": [
      "Requirement already satisfied: lxml in /opt/conda/lib/python3.9/site-packages (4.8.0)\n"
     ]
    }
   ],
   "source": [
    "!pip install lxml\n",
    "\n",
    "from lxml import etree\n",
    "import requests\n",
    "\n",
    "%run ../common.py"
   ]
  },
  {
   "cell_type": "markdown",
   "id": "9ea38015-ff4d-4743-b440-a1b402ead151",
   "metadata": {},
   "source": [
    "----\n",
    "## Exercise 2.1\n",
    "In this exercise we will take a real metadata file and read some content out of it.\n",
    "\n",
    "We will start by downloading a metadata record that we have [found in a catalogue](https://vlo.clarin.eu/record/https_58__47__47_europeana-oai.clarin.eu_47_metadata_47_fulltext-aggregation_47_9200357_47_Dziennik__l_ski_1915.xml).\n",
    "\n",
    "**Read the following cell and try to understand what it does.** \n",
    "\n",
    "Note that the lines starting with a `#` character are so called comments, which are used to document code. In this case they are used to explain what is happening on each line."
   ]
  },
  {
   "cell_type": "code",
   "execution_count": 2,
   "id": "1a6edfaf-1d66-46b4-b3fd-c26b3bf0e853",
   "metadata": {},
   "outputs": [
    {
     "data": {
      "text/plain": [
       "483479"
      ]
     },
     "execution_count": 2,
     "metadata": {},
     "output_type": "execute_result"
    }
   ],
   "source": [
    "# The next line gets a metadata record from a URL, and stores the result in memory. The results gets a name `remote_metadata` for use and reference later on\n",
    "remote_metadata = requests.get('https://europeana-oai.clarin.eu/metadata/fulltext-aggregation/9200357/Dziennik__l_ski_1915.xml')\n",
    "\n",
    "# After the next line, the field `text` inside the retrieved data can be referenced using the name `metadata_content`\n",
    "metadata_content = remote_metadata.content\n",
    "\n",
    "# The final line yields a number, which represents the length of the metadata record. Because it is the last line of the cell it is considered\n",
    "# the \"result\" of the cell and therefore is also shown after the cell has finished running\n",
    "len(metadata_content)"
   ]
  },
  {
   "cell_type": "markdown",
   "id": "7e0bb33f-f98b-4324-a4a2-8fe8d64013f0",
   "metadata": {},
   "source": [
    "We now have loaded the metadata locally as a file in memory. Next step is to 'parse' it - that is, read and process the structure of the document so that we can easily query it for values that we are interested in."
   ]
  },
  {
   "cell_type": "code",
   "execution_count": 3,
   "id": "c5202271-aa10-45c0-aab9-2692500e3784",
   "metadata": {},
   "outputs": [
    {
     "data": {
      "text/plain": [
       "['Dziennik Śląski - 1915']"
      ]
     },
     "execution_count": 3,
     "metadata": {},
     "output_type": "execute_result"
    }
   ],
   "source": [
    "# First we have to do the parsing. This results in a so called 'XML tree', a hierarchical representation of the metadata document.\n",
    "metadata_tree = etree.fromstring(metadata_content)\n",
    "\n",
    "# We can now use the metadata tree variable to see if we can look up the title of the record\n",
    "metadata_tree.xpath('//cmdp_text:TitleInfo/cmdp_text:title/text()', namespaces=nsmap)"
   ]
  },
  {
   "cell_type": "markdown",
   "id": "9b860b8d-d892-46c4-9d29-96a6b22bd2c6",
   "metadata": {},
   "source": [
    "As you may have noticed, we use the `xpath` function which is available when we have a parsed XML tree (`metadata_tree` in the cell above). The name of the function refers to **XPath**, which is a special language that is very commonly used to query XML documents. Its basic functions are easy to use, as can be seen above, but it also has many advanced features. To learn more about XPath, have a look at the [XPath page on Wikipedia](https://en.wikipedia.org/wiki/XPath) or follow [this tutorial](https://www.w3schools.com/xml/xpath_intro.asp).\n",
    "\n",
    "----\n",
    "The following snippet shows a part of the XML document that we have loaded (we encourage you to also have a look at the [full file](https://europeana-oai.clarin.eu/metadata/fulltext-aggregation/9200357/Dziennik__l_ski_1915.xml)):\n",
    "```xml\n",
    "<cmd:CMD>\n",
    "    ...\n",
    "    <cmd:Components>\n",
    "        <cmdp_text:TextResource>\n",
    "            <cmdp_text:TitleInfo>\n",
    "                <cmdp_text:title>Dziennik Śląski - 1915</cmdp_text:title>\n",
    "            </cmdp_text:TitleInfo>\n",
    "            <cmdp_text:Description>\n",
    "                <cmdp_text:description>\n",
    "                    Full text content aggregated from Europeana. Title: \"Dziennik Śląski\". Year: 1915.\n",
    "                </cmdp_text:description>\n",
    "            </cmdp_text:Description>\n",
    "                ...\n",
    "        </cmdp_text:TextResource>\n",
    "    </cmd:Components>\n",
    "</cmd:CMD>\n",
    "```\n",
    "\n",
    "**In the next cell, write a line that returns the _description_ contained in the metadata.**\n",
    "Run the cell and verify that the value matches the description found in the metadata snippet listed above.\n",
    "\n",
    "Note: you can use the `metadata_tree` variable, since it has been defined in the previous cell. Variables remain available to use in following cells once they are defined."
   ]
  },
  {
   "cell_type": "code",
   "execution_count": 4,
   "id": "6cea6545-4dee-4f12-aedc-546a883768fc",
   "metadata": {},
   "outputs": [],
   "source": [
    "# Write the line below that looks up and returns the value of the description as found in the metadata\n"
   ]
  },
  {
   "cell_type": "markdown",
   "id": "0df9328a-3828-41c3-ab2e-db728db94d9e",
   "metadata": {},
   "source": [
    "Since we probably want to get different kinds of information from different metadata records later on, it would be nice if we could define simpler, shorter commands for doing so. This is possible in Python by defining **functions**. Doing this will make it easier to write complex code, without having to repeat yourself while reducing the chance of making errors and making it easier to make improvements and other changes.\n",
    "\n",
    "Functions are made by writing `def <name_of_function>(<parameter1>, .., <parameterN>):` and then write the logic that needs to be encapsulated in the function below that. The parameters have to be provided upon using the function, and can be used in the same way as variables in the logic of the function.\n",
    "\n",
    "**Run the next cell to have some functions defined, thus becoming available for use directly afterwards.**\n",
    "\n",
    "Note that the text between triple quotes (`'''`) are another way to write comments, useful for longer descriptions."
   ]
  },
  {
   "cell_type": "code",
   "execution_count": 9,
   "id": "77b10ea0-e7ad-4941-a0c9-053c753600a9",
   "metadata": {},
   "outputs": [],
   "source": [
    "'''\n",
    "    This function returns the title from the text resource metadata.\n",
    "'''\n",
    "def get_title_from_metadata(metadata_tree):\n",
    "    # Get all the values from the xpath\n",
    "    titles = metadata_tree.xpath('//cmdp_text:TextResource/cmdp_text:TitleInfo/cmdp_text:title/text()', namespaces=nsmap)\n",
    "    # Check if there is an actual value\n",
    "    if len(titles) > 0:\n",
    "        # Return the first (assuming only) value\n",
    "        return titles[0]\n",
    "\n",
    "'''\n",
    "    This function returns the description from the text resource metadata.\n",
    "'''\n",
    "def get_description_from_metadata(metadata_tree):\n",
    "    descriptions = metadata_tree.xpath('//cmdp_text:TextResource/cmdp_text:Description/cmdp_text:description/text()', namespaces=nsmap)\n",
    "    if len(descriptions) > 0:\n",
    "        return descriptions[0]\n",
    "    \n",
    "\n",
    "'''\n",
    "    This function returns all resource identifiers from the resource metadata.\n",
    "'''\n",
    "def get_resource_ids_from_metadata(metadata_tree):\n",
    "    ids = metadata_tree.xpath('//cmdp_text:SubresourceDescription/cmdp_text:IdentificationInfo/cmdp_text:identifier/text()', namespaces=nsmap)\n",
    "    # The result can be any number of identifiers. We do want to filter the values a bit: only the numeric identifiers are useful \n",
    "    # to us so we use the special syntax below to make a new list by picking only the matching values from the query results list\n",
    "    return [id for id in ids if id.isnumeric()]"
   ]
  },
  {
   "cell_type": "markdown",
   "id": "caf2f11f-e7a7-4c22-bddd-02e05f0fea30",
   "metadata": {},
   "source": [
    "In the following cell we will use ('call') the functions for the first time. Run it and see if you understand what is happening."
   ]
  },
  {
   "cell_type": "code",
   "execution_count": 10,
   "id": "75ea6a6a-8c0e-4eeb-9193-66dba8d4d530",
   "metadata": {},
   "outputs": [
    {
     "name": "stdout",
     "output_type": "stream",
     "text": [
      "Title: Dziennik Śląski - 1915\n",
      "Description: Full text content aggregated from Europeana. Title: \"Dziennik Śląski\". Year: 1915.\n",
      "Resource identifiers: \n",
      "['3000095239060', '3000095239444', '3000095238414', '3000095238856', '3000095239250', '3000095239157', '3000095239147', '3000095238787', '3000095238815', '3000095239261', '3000095238382', '3000095239345', '3000095239156', '3000095239238', '3000095238670', '3000095238695', '3000095239317', '3000095238844', '3000095238599', '3000095239293', '3000095238516', '3000095238315', '3000095239335', '3000095239165', '3000095238905', '3000095238810', '3000095238368', '3000095239507', '3000095238281', '3000095238977', '3000095239180', '3000095238920', '3000095239224', '3000095239085', '3000095238280', '3000095238302', '3000095238598', '3000095239269', '3000095239475', '3000095239301', '3000095239356', '3000095238218', '3000095238389', '3000095239086', '3000095238851', '3000095239139', '3000095239232', '3000095239169', '3000095238333', '3000095238727', '3000095238976', '3000095238982', '3000095239367', '3000095238752', '3000095238406', '3000095238647', '3000095239039', '3000095238658', '3000095239425', '3000095239458', '3000095238612', '3000095239011', '3000095238266', '3000095238688', '3000095238922', '3000095238387', '3000095239533', '3000095239262', '3000095238838', '3000095238506', '3000095239015', '3000095238751', '3000095239423', '3000095238817', '3000095238264', '3000095238580', '3000095239410', '3000095238957', '3000095238969', '3000095238237', '3000095238790', '3000095239022', '3000095239388', '3000095238707', '3000095239510', '3000095238489', '3000095238710', '3000095239010', '3000095239290', '3000095238845', '3000095238861', '3000095238729', '3000095238327', '3000095239215', '3000095238359', '3000095238324', '3000095238737', '3000095239403', '3000095238567', '3000095239231', '3000095239516', '3000095239573', '3000095239078', '3000095238572', '3000095238633', '3000095238524', '3000095239486', '3000095238918', '3000095238985', '3000095238621', '3000095238866', '3000095238938', '3000095239203', '3000095238889', '3000095239098', '3000095238290', '3000095239332', '3000095238468', '3000095239237', '3000095238805', '3000095239222', '3000095239358', '3000095239489', '3000095239346', '3000095238527', '3000095239247', '3000095238497', '3000095238259', '3000095238890', '3000095239548', '3000095239545', '3000095238369', '3000095238664', '3000095238624', '3000095238917', '3000095238260', '3000095238555', '3000095238699', '3000095238690', '3000095239347', '3000095239556', '3000095239299', '3000095238784', '3000095238373', '3000095239454', '3000095238363', '3000095238589', '3000095238574', '3000095239281', '3000095238807', '3000095239161', '3000095238393', '3000095238436', '3000095239227', '3000095238812', '3000095239259', '3000095238676', '3000095238342', '3000095239555', '3000095238731', '3000095239396', '3000095239536', '3000095238702', '3000095238630', '3000095238480', '3000095238774', '3000095238912', '3000095238242', '3000095239096', '3000095238403', '3000095238443', '3000095238444', '3000095238561', '3000095239152', '3000095238231', '3000095239511', '3000095239135', '3000095238792', '3000095238687', '3000095238238', '3000095239120', '3000095239364', '3000095238350', '3000095239118', '3000095239102', '3000095239309', '3000095239265', '3000095239080', '3000095238668', '3000095238863', '3000095239557', '3000095238458', '3000095238334', '3000095238243', '3000095238936', '3000095239248', '3000095238611', '3000095238299', '3000095238954', '3000095238952', '3000095238962', '3000095239113', '3000095239399', '3000095239024', '3000095238494', '3000095238372', '3000095238747', '3000095239524', '3000095238386', '3000095238989', '3000095239295', '3000095239236', '3000095238848', '3000095239329', '3000095239274', '3000095238507', '3000095238491', '3000095239119', '3000095238578', '3000095238925', '3000095238486', '3000095239193', '3000095238232', '3000095239319', '3000095239406', '3000095238884', '3000095238631', '3000095239404', '3000095239370', '3000095239537', '3000095238736', '3000095238645', '3000095239368', '3000095239114', '3000095238765', '3000095238419', '3000095239151', '3000095238467', '3000095239087', '3000095238886', '3000095238993', '3000095239553', '3000095238953', '3000095239185', '3000095238246', '3000095239554', '3000095238666', '3000095239323', '3000095238606', '3000095238678', '3000095239242', '3000095238550', '3000095239304', '3000095239508', '3000095238286', '3000095238239', '3000095238481', '3000095238400', '3000095238703', '3000095238796', '3000095238694', '3000095239153', '3000095239111', '3000095239072', '3000095238713', '3000095239211', '3000095239348', '3000095239466', '3000095238448', '3000095238937', '3000095238714', '3000095239267', '3000095238827', '3000095238439', '3000095238457', '3000095238378', '3000095238906', '3000095238275', '3000095239298', '3000095238732', '3000095238432', '3000095238501', '3000095239043', '3000095239002', '3000095238652', '3000095238999', '3000095238323', '3000095239547', '3000095239525', '3000095239058', '3000095238461', '3000095238978', '3000095239286', '3000095238541', '3000095238945', '3000095239297', '3000095239320', '3000095238570', '3000095239576', '3000095238885', '3000095238924', '3000095238451', '3000095238517', '3000095239013', '3000095239450', '3000095238872', '3000095239526', '3000095238619', '3000095238858', '3000095239349', '3000095238734', '3000095238381', '3000095238662', '3000095238775', '3000095238317', '3000095238869', '3000095239194', '3000095239457', '3000095238564', '3000095238963', '3000095238804', '3000095239515', '3000095238484', '3000095238990', '3000095239225', '3000095238525', '3000095238639', '3000095239491', '3000095239030', '3000095238829', '3000095238874', '3000095238225', '3000095239092', '3000095239341', '3000095238234', '3000095238472', '3000095239441', '3000095238857', '3000095239432', '3000095238390', '3000095238698', '3000095239038', '3000095239460', '3000095239544', '3000095239213', '3000095239470', '3000095238706', '3000095239251', '3000095239321', '3000095238399', '3000095239558', '3000095239343', '3000095238693', '3000095238740', '3000095238303', '3000095238351', '3000095238316', '3000095238313', '3000095239045', '3000095239560', '3000095238679', '3000095239053', '3000095239016', '3000095238250', '3000095238434', '3000095239494', '3000095238412', '3000095239162', '3000095238270', '3000095239362', '3000095239214', '3000095239179', '3000095238492', '3000095239540', '3000095238482', '3000095238738', '3000095238855', '3000095239275', '3000095238421', '3000095239167', '3000095239312', '3000095239369', '3000095238974', '3000095239416', '3000095238959', '3000095238307', '3000095239136', '3000095239453', '3000095238762', '3000095239421', '3000095239075', '3000095238417', '3000095239234', '3000095238720', '3000095239230', '3000095238763', '3000095239145', '3000095239463', '3000095239082']\n"
     ]
    }
   ],
   "source": [
    "# Let's try it out!\n",
    "print('Title: ' + get_title_from_metadata(metadata_tree))\n",
    "print('Description: ' + get_description_from_metadata(metadata_tree))\n",
    "print('Resource identifiers: ')\n",
    "print(get_resource_ids_from_metadata(metadata_tree))"
   ]
  },
  {
   "cell_type": "markdown",
   "id": "c6166e12-0c64-4d20-a94e-2452eaca9cf6",
   "metadata": {},
   "source": [
    "----\n",
    "## Exercise 2.2\n",
    "In this exercise we will use the resource identifiers that we can get from metadata file to find the text, and load it so that we can use the content.\n"
   ]
  },
  {
   "cell_type": "markdown",
   "id": "68e3a1b6-247f-4268-b2f2-9e7fbe9d1235",
   "metadata": {},
   "source": [
    "----\n",
    "Next: [Exercise 3](./Exercise3.ipynb)"
   ]
  }
 ],
 "metadata": {
  "kernelspec": {
   "display_name": "Python 3 (ipykernel)",
   "language": "python",
   "name": "python3"
  },
  "language_info": {
   "codemirror_mode": {
    "name": "ipython",
    "version": 3
   },
   "file_extension": ".py",
   "mimetype": "text/x-python",
   "name": "python",
   "nbconvert_exporter": "python",
   "pygments_lexer": "ipython3",
   "version": "3.9.7"
  }
 },
 "nbformat": 4,
 "nbformat_minor": 5
}
