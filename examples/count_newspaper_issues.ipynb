{
 "cells": [
  {
   "cell_type": "markdown",
   "id": "76d4c160-ff1f-4333-9f6d-38386208c18a",
   "metadata": {},
   "source": [
    "# Counting the number of newspaper issues per set"
   ]
  },
  {
   "cell_type": "markdown",
   "id": "4a14c0b1-aa40-49e8-92b7-56fa33e2aa98",
   "metadata": {},
   "source": [
    "## Configuration\n",
    "Here we define the sets that we want to include in our counting task"
   ]
  },
  {
   "cell_type": "code",
   "execution_count": 5,
   "id": "9408e126-9c47-4cec-a201-e1bda88bd801",
   "metadata": {},
   "outputs": [],
   "source": [
    "sets = {\n",
    "    \"9200300\": \"Austria\",\n",
    "    \"9200301\": \"Finland\",\n",
    "    \"9200303\": \"Latvia\",\n",
    "    \"9200338\": \"Hamburg\",\n",
    "    \"9200339\": \"Serbia\",\n",
    "    \"9200355\": \"Berlin\",\n",
    "    \"9200356\": \"Estonia\",\n",
    "    \"9200357\": \"Poland\",\n",
    "    \"9200359\": \"Netherlands\",\n",
    "    \"9200396\": \"Luxembourg\"\n",
    "}"
   ]
  },
  {
   "cell_type": "markdown",
   "id": "d0b1963a-4799-4c2c-ac36-4c2384fde912",
   "metadata": {
    "tags": []
   },
   "source": [
    "## Processing\n",
    "\n",
    "First, we define a function that does the actual counting for one set"
   ]
  },
  {
   "cell_type": "code",
   "execution_count": 6,
   "id": "2528c7b6-5d3d-45eb-8109-d9ed68ccbc9a",
   "metadata": {},
   "outputs": [],
   "source": [
    "# Libraries needed to retrieve and process the metadata zips\n",
    "import re, requests\n",
    "from io import BytesIO\n",
    "from zipfile import ZipFile\n",
    "\n",
    "def count_set(set_id):\n",
    "    # construct the address of the .zip file with the metadata for one set\n",
    "    md_zip_url = f'https://europeana-oai.clarin.eu/metadata/fulltext-aggregation/{set_id}.zip'\n",
    "    \n",
    "    # retrieve and unpack the .zip file\n",
    "    print(f'Retrieving {md_zip_url}')\n",
    "    resp = requests.get(md_zip_url)\n",
    "    zipfile = ZipFile(BytesIO(resp.content))\n",
    "    files = [zipfile.open(file_name) for file_name in zipfile.namelist()]\n",
    "    \n",
    "    # count the links in the file\n",
    "    set_count = 0\n",
    "    for file_name in zipfile.namelist():\n",
    "        with zipfile.open(file_name, mode='r') as file:\n",
    "            for line in file:\n",
    "                text = line.decode('UTF-8')\n",
    "                set_count += len(re.findall('https://www.europeana.eu/item/\\d+/BibliographicResource_\\d+', text))\n",
    "    print(f'Number of issues found in set {set_id} ({sets[set]}): {set_count}')\n",
    "    \n",
    "    # return the result\n",
    "    return set_count"
   ]
  },
  {
   "cell_type": "markdown",
   "id": "f6d02cf2-3683-4a6a-932b-8e399340ba33",
   "metadata": {},
   "source": [
    "Now we simply apply the function to all sets, and each of the counts to a totals counter"
   ]
  },
  {
   "cell_type": "code",
   "execution_count": 7,
   "id": "13345697-a681-4871-8c77-f40858510459",
   "metadata": {},
   "outputs": [
    {
     "name": "stdout",
     "output_type": "stream",
     "text": [
      "Retrieving https://europeana-oai.clarin.eu/metadata/fulltext-aggregation/9200300.zip\n",
      "Number of issues found in set 9200300 (Luxembourg): 147515\n",
      "Retrieving https://europeana-oai.clarin.eu/metadata/fulltext-aggregation/9200301.zip\n",
      "Number of issues found in set 9200301 (Luxembourg): 24164\n",
      "Retrieving https://europeana-oai.clarin.eu/metadata/fulltext-aggregation/9200303.zip\n",
      "Number of issues found in set 9200303 (Luxembourg): 67870\n",
      "Retrieving https://europeana-oai.clarin.eu/metadata/fulltext-aggregation/9200338.zip\n",
      "Number of issues found in set 9200338 (Luxembourg): 130938\n",
      "Retrieving https://europeana-oai.clarin.eu/metadata/fulltext-aggregation/9200339.zip\n",
      "Number of issues found in set 9200339 (Luxembourg): 22087\n",
      "Retrieving https://europeana-oai.clarin.eu/metadata/fulltext-aggregation/9200355.zip\n",
      "Number of issues found in set 9200355 (Luxembourg): 134708\n",
      "Retrieving https://europeana-oai.clarin.eu/metadata/fulltext-aggregation/9200356.zip\n",
      "Number of issues found in set 9200356 (Luxembourg): 92558\n",
      "Retrieving https://europeana-oai.clarin.eu/metadata/fulltext-aggregation/9200357.zip\n",
      "Number of issues found in set 9200357 (Luxembourg): 15130\n",
      "Retrieving https://europeana-oai.clarin.eu/metadata/fulltext-aggregation/9200359.zip\n",
      "Number of issues found in set 9200359 (Luxembourg): 4266\n",
      "Retrieving https://europeana-oai.clarin.eu/metadata/fulltext-aggregation/9200396.zip\n",
      "Number of issues found in set 9200396 (Luxembourg): 1225\n"
     ]
    }
   ],
   "source": [
    "total_count = 0\n",
    "for set_id in sets:\n",
    "    total_count += count_set(set_id)"
   ]
  },
  {
   "cell_type": "markdown",
   "id": "4e296cb7-efac-4e33-90e1-a398b75f0cb7",
   "metadata": {},
   "source": [
    "## Results"
   ]
  },
  {
   "cell_type": "code",
   "execution_count": 8,
   "id": "75bbbdc1-a332-4be7-be77-407ce928e7e0",
   "metadata": {},
   "outputs": [
    {
     "name": "stdout",
     "output_type": "stream",
     "text": [
      "Total number of issues found in 10 sets: 640461\n"
     ]
    }
   ],
   "source": [
    "print(f'Total number of issues found in {len(sets)} sets: {total_count}')"
   ]
  }
 ],
 "metadata": {
  "kernelspec": {
   "display_name": "Python 3 (ipykernel)",
   "language": "python",
   "name": "python3"
  },
  "language_info": {
   "codemirror_mode": {
    "name": "ipython",
    "version": 3
   },
   "file_extension": ".py",
   "mimetype": "text/x-python",
   "name": "python",
   "nbconvert_exporter": "python",
   "pygments_lexer": "ipython3",
   "version": "3.9.7"
  }
 },
 "nbformat": 4,
 "nbformat_minor": 5
}
