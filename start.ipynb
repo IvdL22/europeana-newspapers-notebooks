{
 "cells": [
  {
   "cell_type": "markdown",
   "id": "3ae2e4cf-3a53-4bbe-be3c-abe07d8b5782",
   "metadata": {},
   "source": [
    "# Jupyter notebooks for Europeana newspaper text resource processing\n",
    "\n",
    "These notebooks have been designed to help you get started processing historical text resources\n",
    "(from [Europeana Newspapers](https://www.europeana.eu/en/collections/topic/18-newspapers))\n",
    "with natural language processing (NLP) tools (from [CLARIN](https://www.clarin.eu)).\n",
    "\n",
    "## Getting started\n",
    "\n",
    "### Get familiar with the data\n",
    "* Browse the [Europeana Newspapers portal](https://www.europeana.eu/en/collections/topic/18-newspapers)\n",
    "* Browse the newspaper resources in the [Virtual Language Observatory](https://vlo.clarin.eu/search?fq=collection:Europeana+newspapers+full-text)\n",
    "\n",
    "### Retrieve the data\n",
    "If you are working with these notebooks for the first time and/or in a new environment, you will not yet have data, i.e. the newspaper full text resources, locally available. You will need a copy of the data for the set(s) that you will be working with to run most of the notebooks. Data can be retrieved and unpacked locally by running the full [retrieve data notebook](./util/retrieve_data.ipynb). Click on the link to go there, and follow the instructions that you will find at the start of the notebook.\n",
    "\n",
    "### Follow the tutorial\n",
    "A tutorial in three chapters is included. Start by opening the [first chapter](./tutorial/demo/Chapter1.ipynb), then read and carry out the cells one by one while examing their output.\n",
    "\n",
    "Or jumpy directly to a chapter of interest:\n",
    "- [Chapter 1: XML and CMDI introduction](./tutorial/demo/Chapter1.ipynb)\n",
    "- [Chapter 2: Data selection and resource access](./tutorial/demo/Chapter1.ipynb)\n",
    "- [Chapter 3: NLP processing](./tutorial/demo/Chapter1.ipynb) \n",
    "\n",
    "### Work on the excercise notebooks\n",
    "{TODO}\n",
    "\n",
    "## Doing more\n",
    "* Have a look at the scripts in the `examples` directory.\n",
    "\n",
    "\n",
    "## Links and further reading"
   ]
  },
  {
   "cell_type": "code",
   "execution_count": null,
   "id": "3c67bd08-af2f-4f2b-8b08-34cc5dbb62c0",
   "metadata": {},
   "outputs": [],
   "source": []
  }
 ],
 "metadata": {
  "kernelspec": {
   "display_name": "Python 3 (ipykernel)",
   "language": "python",
   "name": "python3"
  },
  "language_info": {
   "codemirror_mode": {
    "name": "ipython",
    "version": 3
   },
   "file_extension": ".py",
   "mimetype": "text/x-python",
   "name": "python",
   "nbconvert_exporter": "python",
   "pygments_lexer": "ipython3",
   "version": "3.9.7"
  }
 },
 "nbformat": 4,
 "nbformat_minor": 5
}
